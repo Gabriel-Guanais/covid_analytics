{
 "cells": [
  {
   "cell_type": "markdown",
   "id": "cc0065ef",
   "metadata": {},
   "source": [
    "## importação"
   ]
  },
  {
   "cell_type": "code",
   "execution_count": null,
   "id": "53dca1bb",
   "metadata": {},
   "outputs": [],
   "source": [
    "import pandas as pd\n",
    "\n",
    "df = pd.read_csv('../data/raw/covid_data.csv')\n",
    "# isso diz ao pandas para mostrar TODAS as linhas, sem cortar a lista, se nao utilizar o pandas nao mostra os resultados completo\n",
    "pd.set_option('display.max_rows', None)\n"
   ]
  },
  {
   "cell_type": "markdown",
   "id": "19371a5d",
   "metadata": {},
   "source": [
    "## indentificar problema"
   ]
  },
  {
   "cell_type": "code",
   "execution_count": 29,
   "id": "696c4cef",
   "metadata": {},
   "outputs": [],
   "source": [
    "# Na analize anterior percebi que a data estava em object e isso n é funcional\n",
    "df ['date'] = pd.to_datetime(df['date'])\n",
    "# ordenei os dados por local e data, o que é uma boa prática usando o sort_values\n",
    "df = df.sort_values(by=['location','date'])\n"
   ]
  },
  {
   "cell_type": "markdown",
   "id": "9673bd35",
   "metadata": {},
   "source": [
    "## Tratamento de Dados Faltantes (Missing Values)"
   ]
  },
  {
   "cell_type": "code",
   "execution_count": 20,
   "id": "9b63135f",
   "metadata": {},
   "outputs": [
    {
     "data": {
      "text/plain": [
       "weekly_icu_admissions                         97.440125\n",
       "weekly_icu_admissions_per_million             97.440125\n",
       "excess_mortality                              96.877059\n",
       "excess_mortality_cumulative_absolute          96.877059\n",
       "excess_mortality_cumulative                   96.877059\n",
       "excess_mortality_cumulative_per_million       96.877059\n",
       "weekly_hosp_admissions                        94.295528\n",
       "weekly_hosp_admissions_per_million            94.295528\n",
       "icu_patients_per_million                      90.891287\n",
       "icu_patients                                  90.891287\n",
       "hosp_patients_per_million                     90.532677\n",
       "hosp_patients                                 90.532677\n",
       "total_boosters_per_hundred                    87.518484\n",
       "total_boosters                                87.518484\n",
       "new_vaccinations                              83.473401\n",
       "new_tests                                     82.441347\n",
       "new_tests_per_thousand                        82.441347\n",
       "people_fully_vaccinated_per_hundred           81.822395\n",
       "people_fully_vaccinated                       81.822395\n",
       "total_tests                                   81.513617\n",
       "total_tests_per_thousand                      81.513617\n",
       "people_vaccinated_per_hundred                 81.107269\n",
       "people_vaccinated                             81.107269\n",
       "total_vaccinations                            80.109446\n",
       "total_vaccinations_per_hundred                80.109446\n",
       "tests_per_case                                78.029737\n",
       "positive_rate                                 77.662044\n",
       "new_tests_smoothed_per_thousand               75.790283\n",
       "new_tests_smoothed                            75.790283\n",
       "tests_units                                   75.132907\n",
       "handwashing_facilities                        62.336326\n",
       "reproduction_rate                             56.962753\n",
       "new_people_vaccinated_smoothed                55.248874\n",
       "new_people_vaccinated_smoothed_per_hundred    55.248874\n",
       "new_vaccinations_smoothed_per_million         54.584745\n",
       "new_vaccinations_smoothed                     54.584745\n",
       "stringency_index                              54.314390\n",
       "extreme_poverty                               50.633740\n",
       "male_smokers                                  43.223771\n",
       "female_smokers                                42.444142\n",
       "hospital_beds_per_thousand                    32.308964\n",
       "human_development_index                       25.686774\n",
       "aged_65_older                                 24.722018\n",
       "gdp_per_capita                                23.552575\n",
       "cardiovasc_death_rate                         23.419144\n",
       "aged_70_older                                 22.848627\n",
       "median_age                                    22.068998\n",
       "diabetes_prevalence                           19.449742\n",
       "population_density                            16.054350\n",
       "life_expectancy                                9.113370\n",
       "continent                                      6.176721\n",
       "new_cases_smoothed                             4.775111\n",
       "new_cases_smoothed_per_million                 4.775111\n",
       "new_deaths_smoothed                            4.670555\n",
       "new_deaths_smoothed_per_million                4.670555\n",
       "new_cases                                      4.488689\n",
       "new_cases_per_million                          4.488689\n",
       "new_deaths                                     4.384133\n",
       "new_deaths_per_million                         4.384133\n",
       "total_deaths_per_million                       4.105627\n",
       "total_cases                                    4.105627\n",
       "total_deaths                                   4.105627\n",
       "total_cases_per_million                        4.105627\n",
       "location                                       0.000000\n",
       "iso_code                                       0.000000\n",
       "date                                           0.000000\n",
       "population                                     0.000000\n",
       "dtype: float64"
      ]
     },
     "execution_count": 20,
     "metadata": {},
     "output_type": "execute_result"
    }
   ],
   "source": [
    "# função isnull mostra as colunas com valores vazios, faço a soma dessas colunas e mutiplico por 100/pela\n",
    "percentual_nulos = df.isnull().sum() * 100 / len(df)\n",
    "\n",
    "# Imprime a lista ordenada, das colunas mais vazias para as mais cheias\n",
    "percentual_nulos.sort_values(ascending=False)\n"
   ]
  },
  {
   "cell_type": "markdown",
   "id": "5258883c",
   "metadata": {},
   "source": [
    "## Conclusao dos dados vazios\n",
    "\n",
    "- Apos analizar as colunas vazias percebi que a maioria das colunas entao entre 80% á 97% dos valores nulls isso indica que terei que eliminar essas colunas pois sao colunas com alto ruido tentar \"adivinhar\" ou preencher esses valores seria como inventar dados.\n"
   ]
  },
  {
   "cell_type": "markdown",
   "id": "6148b4ea",
   "metadata": {},
   "source": [
    "## Eliminando colunas"
   ]
  },
  {
   "cell_type": "code",
   "execution_count": 32,
   "id": "4036dada",
   "metadata": {},
   "outputs": [
    {
     "name": "stdout",
     "output_type": "stream",
     "text": [
      "<class 'pandas.core.frame.DataFrame'>\n",
      "Index: 429435 entries, 0 to 429434\n",
      "Data columns (total 42 columns):\n",
      " #   Column                                      Non-Null Count   Dtype         \n",
      "---  ------                                      --------------   -----         \n",
      " 0   iso_code                                    429435 non-null  object        \n",
      " 1   continent                                   402910 non-null  object        \n",
      " 2   location                                    429435 non-null  object        \n",
      " 3   date                                        429435 non-null  datetime64[ns]\n",
      " 4   total_cases                                 411804 non-null  float64       \n",
      " 5   new_cases                                   410159 non-null  float64       \n",
      " 6   new_cases_smoothed                          408929 non-null  float64       \n",
      " 7   total_deaths                                411804 non-null  float64       \n",
      " 8   new_deaths                                  410608 non-null  float64       \n",
      " 9   new_deaths_smoothed                         409378 non-null  float64       \n",
      " 10  total_cases_per_million                     411804 non-null  float64       \n",
      " 11  new_cases_per_million                       410159 non-null  float64       \n",
      " 12  new_cases_smoothed_per_million              408929 non-null  float64       \n",
      " 13  total_deaths_per_million                    411804 non-null  float64       \n",
      " 14  new_deaths_per_million                      410608 non-null  float64       \n",
      " 15  new_deaths_smoothed_per_million             409378 non-null  float64       \n",
      " 16  reproduction_rate                           184817 non-null  float64       \n",
      " 17  new_tests_smoothed                          103965 non-null  float64       \n",
      " 18  new_tests_smoothed_per_thousand             103965 non-null  float64       \n",
      " 19  positive_rate                               95927 non-null   float64       \n",
      " 20  tests_per_case                              94348 non-null   float64       \n",
      " 21  tests_units                                 106788 non-null  object        \n",
      " 22  new_vaccinations_smoothed                   195029 non-null  float64       \n",
      " 23  new_vaccinations_smoothed_per_million       195029 non-null  float64       \n",
      " 24  new_people_vaccinated_smoothed              192177 non-null  float64       \n",
      " 25  new_people_vaccinated_smoothed_per_hundred  192177 non-null  float64       \n",
      " 26  stringency_index                            196190 non-null  float64       \n",
      " 27  population_density                          360492 non-null  float64       \n",
      " 28  median_age                                  334663 non-null  float64       \n",
      " 29  aged_65_older                               323270 non-null  float64       \n",
      " 30  aged_70_older                               331315 non-null  float64       \n",
      " 31  gdp_per_capita                              328292 non-null  float64       \n",
      " 32  extreme_poverty                             211996 non-null  float64       \n",
      " 33  cardiovasc_death_rate                       328865 non-null  float64       \n",
      " 34  diabetes_prevalence                         345911 non-null  float64       \n",
      " 35  female_smokers                              247165 non-null  float64       \n",
      " 36  male_smokers                                243817 non-null  float64       \n",
      " 37  handwashing_facilities                      161741 non-null  float64       \n",
      " 38  hospital_beds_per_thousand                  290689 non-null  float64       \n",
      " 39  life_expectancy                             390299 non-null  float64       \n",
      " 40  human_development_index                     319127 non-null  float64       \n",
      " 41  population                                  429435 non-null  int64         \n",
      "dtypes: datetime64[ns](1), float64(36), int64(1), object(4)\n",
      "memory usage: 140.9+ MB\n"
     ]
    }
   ],
   "source": [
    "limite = 80.0\n",
    "\n",
    "colunas_para_apagar = percentual_nulos[percentual_nulos > limite].index.tolist()\n",
    "df_limpo = df.drop(columns=colunas_para_apagar)\n",
    "\n",
    "df_limpo.info()\n"
   ]
  }
 ],
 "metadata": {
  "kernelspec": {
   "display_name": "venv",
   "language": "python",
   "name": "python3"
  },
  "language_info": {
   "codemirror_mode": {
    "name": "ipython",
    "version": 3
   },
   "file_extension": ".py",
   "mimetype": "text/x-python",
   "name": "python",
   "nbconvert_exporter": "python",
   "pygments_lexer": "ipython3",
   "version": "3.13.3"
  }
 },
 "nbformat": 4,
 "nbformat_minor": 5
}
